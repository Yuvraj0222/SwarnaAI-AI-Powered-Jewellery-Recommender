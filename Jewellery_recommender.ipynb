{
 "cells": [
  {
   "cell_type": "markdown",
   "id": "0c5ef3e0-8c45-4fb8-95a3-0b759fb17c4a",
   "metadata": {},
   "source": [
    "![SwarnaAI Logo](A_luxurious_and_elegant_logo_for_'SwarnaAI',_an_AI.png)   \n",
    "###  SwarnaAI: Smart Jewellery Recommender\n",
    "It reflects:\n",
    "AI-powered recommendation\n",
    "Focus on the Indian jewelry market\n",
    "Real-time metal prices"
   ]
  },
  {
   "cell_type": "code",
   "execution_count": null,
   "id": "738af119-da34-4b6c-afe2-caff9c0b0bfc",
   "metadata": {},
   "outputs": [],
   "source": [
    "\n",
    "import pandas as pd\n",
    "from sklearn.feature_extraction.text import TfidfVectorizer\n",
    "from sklearn.metrics.pairwise import cosine_similarity\n",
    "from tabulate import tabulate\n",
    "\n",
    "# Expanded jewelry dataset with price range, ratings, and availability status\n",
    "data = {\n",
    "    'id': [1, 2, 3, 4, 5, 6, 7, 8],\n",
    "    'name': ['Gold Ring', 'Silver Necklace', 'Diamond Earrings', 'Platinum Bracelet', 'Ruby Pendant', 'Emerald Ring', 'Sapphire Bracelet', 'Pearl Necklace'],\n",
    "    'metal': ['gold', 'silver', 'gold', 'platinum', 'gold', 'gold', 'silver', 'silver'],\n",
    "    'gemstone': ['none', 'none', 'diamond', 'none', 'ruby', 'emerald', 'sapphire', 'pearl'],\n",
    "    'occasion': ['casual', 'party', 'wedding', 'luxury', 'anniversary', 'wedding', 'luxury', 'casual'],\n",
    "    'price': [16000, 12000, 83000, 100000, 58000, 75000, 92000, 25000],  # Price in INR\n",
    "    'rating': [4.5, 4.0, 5.0, 4.8, 4.7, 4.9, 4.6, 4.2],  # Customer ratings\n",
    "    'availability': ['In Stock', 'Out of Stock', 'In Stock', 'In Stock', 'In Stock', 'Out of Stock', 'In Stock', 'In Stock']  # Availability status\n",
    "}\n",
    "\n",
    "df = pd.DataFrame(data)\n",
    "\n",
    "# Function to generate recommendations\n",
    "def recommend_jewelry(query, max_price, min_rating, df):\n",
    "    df['features'] = df['metal'] + ' ' + df['gemstone'] + ' ' + df['occasion']\n",
    "    vectorizer = TfidfVectorizer()\n",
    "    feature_matrix = vectorizer.fit_transform(df['features'])\n",
    "    query_vec = vectorizer.transform([query])\n",
    "    similarity = cosine_similarity(query_vec, feature_matrix)\n",
    "    recommendations = df.iloc[similarity.argsort()[0][-5:][::-1]]\n",
    "    recommendations = recommendations[(recommendations['price'] <= max_price) & (recommendations['rating'] >= min_rating) & (recommendations['availability'] == 'In Stock')]  # Filter by price, rating, and availability\n",
    "    return recommendations[['name', 'metal', 'gemstone', 'occasion', 'price', 'rating', 'availability']]\n",
    "\n",
    "# User Interface with enhanced interactivity\n",
    "print(\"\\nWelcome to the AI-Powered Jewellery Recommendation System! \")\n",
    "print(\"-----------------------------------------------------\")\n",
    "print(\"\\nPlease enter your preferences below:\\n\")\n",
    "\n",
    "metal_choice = input(\"Enter preferred metal (gold/silver/platinum): \").strip().lower()\n",
    "gem_choice = input(\"Enter preferred gemstone (diamond/ruby/emerald/sapphire/pearl/none): \").strip().lower()\n",
    "occasion_choice = input(\"Enter occasion (casual/party/wedding/luxury/anniversary): \").strip().lower()\n",
    "\n",
    "max_price = int(input(\"Enter your maximum budget (in INR): \"))\n",
    "min_rating = float(input(\"Enter minimum rating (1.0 - 5.0): \"))\n",
    "\n",
    "query = f\"{metal_choice} {gem_choice} {occasion_choice}\".strip()\n",
    "if query:\n",
    "    results = recommend_jewelry(query, max_price, min_rating, df)\n",
    "    if results.empty:\n",
    "        print(\"\\nNo matching jewellery found within your budget, rating preference, and availability.\")\n",
    "    else:\n",
    "        print(\"\\n✨ Recommended Jewellery Items ✨\")\n",
    "        print(tabulate(results, headers='keys', tablefmt='fancy_grid'))\n",
    "\n",
    "print(\"\\nThank you for using our Jewellery Recommendation System! \")\n"
   ]
  },
  {
   "cell_type": "code",
   "execution_count": null,
   "id": "68d4064d-f763-4f49-98c8-a17f83ae1ee3",
   "metadata": {},
   "outputs": [],
   "source": []
  },
  {
   "cell_type": "code",
   "execution_count": null,
   "id": "9b919b7e-fa27-4a69-b06c-10146d4a4b35",
   "metadata": {},
   "outputs": [],
   "source": []
  }
 ],
 "metadata": {
  "kernelspec": {
   "display_name": "Python [conda env:base] *",
   "language": "python",
   "name": "conda-base-py"
  },
  "language_info": {
   "codemirror_mode": {
    "name": "ipython",
    "version": 3
   },
   "file_extension": ".py",
   "mimetype": "text/x-python",
   "name": "python",
   "nbconvert_exporter": "python",
   "pygments_lexer": "ipython3",
   "version": "3.13.5"
  }
 },
 "nbformat": 4,
 "nbformat_minor": 5
}
